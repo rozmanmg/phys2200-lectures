{
 "cells": [
  {
   "cell_type": "code",
   "execution_count": null,
   "id": "1ee66cc3-af76-4aee-b778-6970e9017ab4",
   "metadata": {},
   "outputs": [],
   "source": [
    "\n",
    "using PyPlot"
   ]
  },
  {
   "cell_type": "code",
   "execution_count": null,
   "id": "95ca76c2-c301-4eb0-adf6-533bd6f18b7c",
   "metadata": {},
   "outputs": [],
   "source": [
    "\n",
    "x = range(0.0, 2*pi, 1000)\n",
    "y = sin.(3 .* x .+ 4 .* cos.(2 .* x));"
   ]
  },
  {
   "cell_type": "code",
   "execution_count": null,
   "id": "75229f01-59ee-40a9-af6e-dc5b8e60c171",
   "metadata": {},
   "outputs": [],
   "source": [
    "\n",
    "plot(x, y, color=\"blue\", linewidth=1.5, linestyle=\"-\")\n",
    "grid(true)\n",
    "title(\"A sinusoidally modulated sinusoid\");"
   ]
  },
  {
   "cell_type": "code",
   "execution_count": null,
   "id": "0cfbe0ac-7277-430b-9214-c985e890182c",
   "metadata": {},
   "outputs": [],
   "source": []
  }
 ],
 "metadata": {
  "kernelspec": {
   "display_name": "Julia 1.11.5",
   "language": "julia",
   "name": "julia-1.11"
  },
  "language_info": {
   "file_extension": ".jl",
   "mimetype": "application/julia",
   "name": "julia",
   "version": "1.11.5"
  }
 },
 "nbformat": 4,
 "nbformat_minor": 5
}
